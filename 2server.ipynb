{
 "cells": [
  {
   "cell_type": "markdown",
   "id": "05fb91d1-5fc2-4bb6-b6c8-dd60de40a998",
   "metadata": {},
   "source": [
    "Design a distributed application using RMI for remote computation where client submits two\n",
    "strings to the server and server returns the concatenation of the given strings.\n"
   ]
  },
  {
   "cell_type": "code",
   "execution_count": null,
   "id": "7386a3d9-2731-4864-8a7b-017d22bdcf32",
   "metadata": {},
   "outputs": [
    {
     "name": "stdout",
     "output_type": "stream",
     "text": [
      "Server running. URI: PYRO:obj_4413ed68cd834fd5b0878286bc59afa7@localhost:56082\n",
      "Received: bipin, mahale\n"
     ]
    }
   ],
   "source": [
    "#pip install Pyro4   -do this before running this code\n",
    "\n",
    "# SERVER CELL\n",
    "\n",
    "\n",
    "import Pyro4\n",
    "\n",
    "@Pyro4.expose\n",
    "class StringConcatenator:\n",
    "    def concatenate(self, str1, str2):\n",
    "        print(f\"Received: {str1}, {str2}\")\n",
    "        return str1 + str2\n",
    "\n",
    "def start_server():\n",
    "    daemon = Pyro4.Daemon(host=\"localhost\")  # Bind to localhost\n",
    "    uri = daemon.register(StringConcatenator)\n",
    "    print(\"Server running. URI:\", uri)\n",
    "    \n",
    "    daemon.requestLoop()  # Keep the server running\n",
    "\n",
    "start_server()\n",
    "\n",
    "#Run the Server\n",
    "\n",
    "#From the terminal output, copy the exact URI — it will look like this:\n",
    "\n",
    "#Server running. URI: PYRO:obj_193c55e671d04d8eb67278354873f956@localhost:50111\n",
    "\n",
    "#Update this line in your client.py\n",
    "\n",
    "#run the client"
   ]
  },
  {
   "cell_type": "code",
   "execution_count": null,
   "id": "8e52a55c-df90-466e-8d59-e67da6c5e646",
   "metadata": {},
   "outputs": [],
   "source": []
  },
  {
   "cell_type": "code",
   "execution_count": null,
   "id": "9d245bb9-5b81-47ef-b26c-bf13a7177b3a",
   "metadata": {},
   "outputs": [],
   "source": []
  }
 ],
 "metadata": {
  "kernelspec": {
   "display_name": "Python 3 (ipykernel)",
   "language": "python",
   "name": "python3"
  },
  "language_info": {
   "codemirror_mode": {
    "name": "ipython",
    "version": 3
   },
   "file_extension": ".py",
   "mimetype": "text/x-python",
   "name": "python",
   "nbconvert_exporter": "python",
   "pygments_lexer": "ipython3",
   "version": "3.11.9"
  }
 },
 "nbformat": 4,
 "nbformat_minor": 5
}
