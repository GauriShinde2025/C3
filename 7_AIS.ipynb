{
 "cells": [
  {
   "cell_type": "markdown",
   "id": "11b06b1b",
   "metadata": {},
   "source": [
    "To apply the artificial immune pattern recognition to perform a task of structure damage \n",
    "Classification. "
   ]
  },
  {
   "cell_type": "code",
   "execution_count": 1,
   "id": "a16edb66",
   "metadata": {},
   "outputs": [
    {
     "name": "stdout",
     "output_type": "stream",
     "text": [
      "10\n",
      "Potential damage detected with antibody: [0.59411875 0.62941863 0.99504881]\n"
     ]
    }
   ],
   "source": [
    "import numpy as np\n",
    "\n",
    "def create_antibody(size):\n",
    "  return np.random.rand(size) \n",
    "\n",
    "def euclidean_distance(a1, a2):\n",
    "  return np.linalg.norm(a1 - a2) \n",
    "\n",
    "healthy_data = np.array([[1.0, 2.0, 3.0], [1.1, 1.9, 3.2]])\n",
    "num_antibodies = 10\n",
    "antibody_population = [create_antibody(healthy_data.shape[1]) for i in range(num_antibodies)]\n",
    "# Simulate sensor data with potential damage (replace with actual data)\n",
    "damaged_data = np.array([[1.2, 1.7, 2.8], [1.4, 1.5, 3.5]])\n",
    "\n",
    "# Affinity (closeness)\n",
    "def affinity(antibody, datapoint):\n",
    "  distance = euclidean_distance(antibody, datapoint)\n",
    "  return 1 / (1 + distance)\n",
    "\n",
    "for i in range(2):\n",
    "  healthy_affinities = [affinity(ab, datapoint) for ab in antibody_population for datapoint in healthy_data]\n",
    "  # Select top 'n' antibodies based on affinity (healthy data)\n",
    "  top_antibodies = sorted(zip(antibody_population, healthy_affinities), key=lambda x: x[1], reverse=True)[:5]\n",
    "  # Clone and introduce random mutations (simplified)\n",
    "  new_population = []\n",
    "  for ab, i in top_antibodies:\n",
    "    new_population.append(ab + np.random.randn(ab.shape[0]) * 0.1)  # Introduce small mutation\n",
    "    antibody_population = new_population\n",
    "# Update antibody population\n",
    "antibody_population.extend(new_population)\n",
    "# Check affinity for damaged data\n",
    "damaged_affinities = [affinity(ab, damaged_data[0]) for ab in antibody_population]\n",
    "# Identify potential damage based on high affinity for damaged data\n",
    "potential_damage_index = damaged_affinities.index(max(damaged_affinities))\n",
    "print(len(antibody_population))\n",
    "print(\"Potential damage detected with antibody:\", antibody_population[potential_damage_index])"
   ]
  },
  {
   "cell_type": "code",
   "execution_count": 1,
   "id": "4917c61d",
   "metadata": {},
   "outputs": [
    {
     "name": "stdout",
     "output_type": "stream",
     "text": [
      "Sample 1: [ 0.2 -0.1  0.3] → Undamaged\n",
      "Sample 2: [2.5 3.1 2.9] → Undamaged\n",
      "Sample 3: [ 0.   0.1 -0.2] → Undamaged\n",
      "Sample 4: [3.2 2.9 3.3] → Undamaged\n"
     ]
    }
   ],
   "source": [
    "import numpy as np\n",
    "\n",
    "# Generate \"self\" (normal) data\n",
    "np.random.seed(42)\n",
    "self_data = np.random.normal(loc=0.0, scale=1.0, size=(50, 3))  # 50 samples, 3 features\n",
    "\n",
    "# Generate \"non-self\" (damaged) data\n",
    "nonself_data = np.random.normal(loc=3.0, scale=1.0, size=(10, 3))  # Damaged pattern\n",
    "\n",
    "# Generate detectors (not similar to any self data)\n",
    "detectors = []\n",
    "while len(detectors) < 10:\n",
    "    candidate = np.random.uniform(-5, 5, 3)\n",
    "    if all(np.linalg.norm(candidate - s) > 1.5 for s in self_data):\n",
    "        detectors.append(candidate)\n",
    "\n",
    "# Test samples (some normal, some damaged)\n",
    "test_samples = np.array([\n",
    "    [0.2, -0.1, 0.3],  # Normal\n",
    "    [2.5, 3.1, 2.9],   # Damaged\n",
    "    [0.0, 0.1, -0.2],  # Normal\n",
    "    [3.2, 2.9, 3.3]    # Damaged\n",
    "])\n",
    "\n",
    "# Classification\n",
    "def classify(sample, detectors, threshold=1.5):\n",
    "    for d in detectors:\n",
    "        if np.linalg.norm(sample - d) < threshold:\n",
    "            return \"Damaged\"\n",
    "    return \"Undamaged\"\n",
    "\n",
    "# Output results\n",
    "for i, s in enumerate(test_samples):\n",
    "    result = classify(s, detectors)\n",
    "    print(f\"Sample {i+1}: {s} → {result}\")\n"
   ]
  },
  {
   "cell_type": "code",
   "execution_count": 1,
   "id": "844f1c5b",
   "metadata": {},
   "outputs": [
    {
     "name": "stdout",
     "output_type": "stream",
     "text": [
      "Accuracy: 0.75\n"
     ]
    }
   ],
   "source": [
    "from sklearn.datasets import make_classification\n",
    "from sklearn.model_selection import train_test_split\n",
    "from sklearn.preprocessing import StandardScaler\n",
    "import numpy as np\n",
    "\n",
    "# Step 1: Create synthetic 2-class data (Healthy = 0, Damaged = 1)\n",
    "X, y = make_classification(n_samples=200, n_features=4, n_classes=2, random_state=1)\n",
    "\n",
    "# Step 2: Split & scale\n",
    "X_train, X_test, y_train, y_test = train_test_split(X, y, test_size=0.3, random_state=42)\n",
    "scaler = StandardScaler()\n",
    "X_train = scaler.fit_transform(X_train)\n",
    "X_test = scaler.transform(X_test)\n",
    "\n",
    "# Step 3: Use damaged samples to generate detectors\n",
    "detectors = X_train[y_train == 1][:20]  # Take 20 detectors from class 1\n",
    "\n",
    "# Step 4: Simple AIS-style classification\n",
    "def classify(sample, detectors, radius=1.2):\n",
    "    for d in detectors:\n",
    "        if np.linalg.norm(sample - d) < radius:\n",
    "            return 1  # Detected as damaged\n",
    "    return 0  # Otherwise healthy\n",
    "\n",
    "# Step 5: Predict and evaluate\n",
    "preds = [classify(x, detectors) for x in X_test]\n",
    "accuracy = np.mean(preds == y_test)\n",
    "print(f\"Accuracy: {accuracy:.2f}\")"
   ]
  },
  {
   "cell_type": "code",
   "execution_count": null,
   "id": "c28418df",
   "metadata": {},
   "outputs": [],
   "source": []
  }
 ],
 "metadata": {
  "kernelspec": {
   "display_name": "Python 3 (ipykernel)",
   "language": "python",
   "name": "python3"
  },
  "language_info": {
   "codemirror_mode": {
    "name": "ipython",
    "version": 3
   },
   "file_extension": ".py",
   "mimetype": "text/x-python",
   "name": "python",
   "nbconvert_exporter": "python",
   "pygments_lexer": "ipython3",
   "version": "3.11.4"
  }
 },
 "nbformat": 4,
 "nbformat_minor": 5
}
