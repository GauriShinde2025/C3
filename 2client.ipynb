{
 "cells": [
  {
   "cell_type": "markdown",
   "id": "a1f346c3-dd3f-4b4b-949e-20fbb800ae2b",
   "metadata": {},
   "source": [
    "Design a distributed application using RMI for remote computation where client submits two\n",
    "strings to the server and server returns the concatenation of the given strings.\n"
   ]
  },
  {
   "cell_type": "code",
   "execution_count": 2,
   "id": "7c9f2e33-61ad-40c8-9002-6cadfff65e79",
   "metadata": {},
   "outputs": [
    {
     "name": "stdin",
     "output_type": "stream",
     "text": [
      "Enter first string:  bipin\n",
      "Enter second string:  mahale\n"
     ]
    },
    {
     "name": "stdout",
     "output_type": "stream",
     "text": [
      "Concatenated result: bipinmahale\n"
     ]
    }
   ],
   "source": [
    "# CLIENT CELL\n",
    "\n",
    "import Pyro4\n",
    "\n",
    "# Paste the URI from the server output\n",
    "uri = \"PYRO:obj_4413ed68cd834fd5b0878286bc59afa7@localhost:56082\"  # Replace with your actual URI\n",
    "\n",
    "proxy = Pyro4.Proxy(uri)\n",
    "\n",
    "str1 = input(\"Enter first string: \")\n",
    "str2 = input(\"Enter second string: \")\n",
    "\n",
    "result = proxy.concatenate(str1, str2)\n",
    "print(\"Concatenated result:\", result)\n"
   ]
  },
  {
   "cell_type": "code",
   "execution_count": null,
   "id": "0067f0f7-7e6c-41fc-a0f4-ad534f6f6576",
   "metadata": {},
   "outputs": [],
   "source": []
  }
 ],
 "metadata": {
  "kernelspec": {
   "display_name": "Python 3 (ipykernel)",
   "language": "python",
   "name": "python3"
  },
  "language_info": {
   "codemirror_mode": {
    "name": "ipython",
    "version": 3
   },
   "file_extension": ".py",
   "mimetype": "text/x-python",
   "name": "python",
   "nbconvert_exporter": "python",
   "pygments_lexer": "ipython3",
   "version": "3.11.9"
  }
 },
 "nbformat": 4,
 "nbformat_minor": 5
}
